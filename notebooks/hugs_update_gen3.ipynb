{
 "cells": [
  {
   "cell_type": "code",
   "execution_count": 1,
   "id": "0fcef1eb",
   "metadata": {},
   "outputs": [],
   "source": [
    "# Import packages\n",
    "%load_ext autoreload\n",
    "%autoreload 2\n",
    "\n",
    "import numpy as np\n",
    "import matplotlib.pyplot as plt\n",
    "\n",
    "from astropy.table import Table \n",
    "from hugs import primitives as prim\n",
    "import hugs\n",
    "from time import time"
   ]
  },
  {
   "cell_type": "code",
   "execution_count": 2,
   "id": "49d07d84",
   "metadata": {},
   "outputs": [],
   "source": [
    "config_params = hugs.utils.read_config('../pipe-configs/cosmos-config.yml')"
   ]
  },
  {
   "cell_type": "code",
   "execution_count": 3,
   "id": "885f82c1",
   "metadata": {},
   "outputs": [],
   "source": [
    "patches = Table([[9813], [30]], names=['tract', 'patch'])"
   ]
  },
  {
   "cell_type": "code",
   "execution_count": 4,
   "id": "a6fdfab0",
   "metadata": {},
   "outputs": [],
   "source": [
    "patches['outdir'] = '/scratch/gpfs/jiaxuanl/Data/HSC/hugs-io/'\n",
    "patches['log_fn'] = '/scratch/gpfs/jiaxuanl/Data/HSC/hugs-io/hugs-pipe.log'\n",
    "\n",
    "patches['config_fn'] = '../pipe-configs/cosmos-config.yml'\n",
    "patches['run_name'] = 'hugs-pipe-run'\n",
    "\n",
    "patches['rerun_path'] = None"
   ]
  },
  {
   "cell_type": "code",
   "execution_count": 5,
   "id": "8dc241f8",
   "metadata": {},
   "outputs": [],
   "source": [
    "tract, p1, p2 = patches['tract'], int(patches['patch'][0]), int(patches['patch'][-1])\n",
    "seed = [int(time())]"
   ]
  },
  {
   "cell_type": "code",
   "execution_count": 6,
   "id": "a411db99",
   "metadata": {},
   "outputs": [],
   "source": [
    "p = patches[0]"
   ]
  },
  {
   "cell_type": "code",
   "execution_count": 7,
   "id": "046714b5",
   "metadata": {},
   "outputs": [],
   "source": [
    "config = hugs.PipeConfig(run_name=p['run_name'], \n",
    "                         config_fn=p['config_fn'],\n",
    "                         random_state=seed[0], \n",
    "                         log_fn=p['log_fn'],\n",
    "                         rerun_path=p['rerun_path'])"
   ]
  },
  {
   "cell_type": "code",
   "execution_count": 9,
   "id": "402e7d0e",
   "metadata": {},
   "outputs": [
    {
     "name": "stdout",
     "output_type": "stream",
     "text": [
      "INFO: starting hugs: 9813 | 30\n"
     ]
    },
    {
     "ename": "ValueError",
     "evalue": "Unrecognized keyword args given: {'filter', 'immediate'}",
     "output_type": "error",
     "traceback": [
      "\u001b[0;31m---------------------------------------------------------------------------\u001b[0m",
      "\u001b[0;31mValueError\u001b[0m                                Traceback (most recent call last)",
      "Input \u001b[0;32mIn [9]\u001b[0m, in \u001b[0;36m<cell line: 1>\u001b[0;34m()\u001b[0m\n\u001b[0;32m----> 1\u001b[0m \u001b[43mconfig\u001b[49m\u001b[38;5;241;43m.\u001b[39;49m\u001b[43mset_patch_id\u001b[49m\u001b[43m(\u001b[49m\u001b[43mp\u001b[49m\u001b[43m[\u001b[49m\u001b[38;5;124;43m'\u001b[39;49m\u001b[38;5;124;43mtract\u001b[39;49m\u001b[38;5;124;43m'\u001b[39;49m\u001b[43m]\u001b[49m\u001b[43m,\u001b[49m\u001b[43m \u001b[49m\u001b[43mp\u001b[49m\u001b[43m[\u001b[49m\u001b[38;5;124;43m'\u001b[39;49m\u001b[38;5;124;43mpatch\u001b[39;49m\u001b[38;5;124;43m'\u001b[39;49m\u001b[43m]\u001b[49m\u001b[43m)\u001b[49m\n",
      "File \u001b[0;32m~/Research/Packages/hugs/hugs/config.py:215\u001b[0m, in \u001b[0;36mPipeConfig.set_patch_id\u001b[0;34m(self, tract, patch)\u001b[0m\n\u001b[1;32m    207\u001b[0m     \u001b[38;5;28mself\u001b[39m\u001b[38;5;241m.\u001b[39mexp \u001b[38;5;241m=\u001b[39m SynthHugsExposure(\u001b[38;5;28mself\u001b[39m\u001b[38;5;241m.\u001b[39msynth_cat, tract, patch,\n\u001b[1;32m    208\u001b[0m                                  \u001b[38;5;28mself\u001b[39m\u001b[38;5;241m.\u001b[39mbands, \u001b[38;5;28mself\u001b[39m\u001b[38;5;241m.\u001b[39mbutler,\n\u001b[1;32m    209\u001b[0m                                  rerun\u001b[38;5;241m=\u001b[39m\u001b[38;5;28mself\u001b[39m\u001b[38;5;241m.\u001b[39mdata_dir,\n\u001b[0;32m   (...)\u001b[0m\n\u001b[1;32m    212\u001b[0m                                  use_andy_mask\u001b[38;5;241m=\u001b[39m\u001b[38;5;28mself\u001b[39m\u001b[38;5;241m.\u001b[39muse_andy_mask,\n\u001b[1;32m    213\u001b[0m                                  synth_model\u001b[38;5;241m=\u001b[39m\u001b[38;5;28mself\u001b[39m\u001b[38;5;241m.\u001b[39msynth_model)\n\u001b[1;32m    214\u001b[0m \u001b[38;5;28;01melse\u001b[39;00m:\n\u001b[0;32m--> 215\u001b[0m     \u001b[38;5;28mself\u001b[39m\u001b[38;5;241m.\u001b[39mexp \u001b[38;5;241m=\u001b[39m \u001b[43mHugsExposure\u001b[49m\u001b[43m(\u001b[49m\u001b[43mtract\u001b[49m\u001b[43m,\u001b[49m\u001b[43m \u001b[49m\u001b[43mpatch\u001b[49m\u001b[43m,\u001b[49m\u001b[43m \u001b[49m\u001b[38;5;28;43mself\u001b[39;49m\u001b[38;5;241;43m.\u001b[39;49m\u001b[43mbands\u001b[49m\u001b[43m,\u001b[49m\u001b[43m \u001b[49m\u001b[38;5;28;43mself\u001b[39;49m\u001b[38;5;241;43m.\u001b[39;49m\u001b[43mbutler\u001b[49m\u001b[43m,\u001b[49m\n\u001b[1;32m    216\u001b[0m \u001b[43m                            \u001b[49m\u001b[43mband_detect\u001b[49m\u001b[38;5;241;43m=\u001b[39;49m\u001b[38;5;28;43mself\u001b[39;49m\u001b[38;5;241;43m.\u001b[39;49m\u001b[43mband_detect\u001b[49m\u001b[43m,\u001b[49m\n\u001b[1;32m    217\u001b[0m \u001b[43m                            \u001b[49m\u001b[43mrerun\u001b[49m\u001b[38;5;241;43m=\u001b[39;49m\u001b[38;5;28;43mself\u001b[39;49m\u001b[38;5;241;43m.\u001b[39;49m\u001b[43mdata_dir\u001b[49m\u001b[43m,\u001b[49m\n\u001b[1;32m    218\u001b[0m \u001b[43m                            \u001b[49m\u001b[43mcoadd_label\u001b[49m\u001b[38;5;241;43m=\u001b[39;49m\u001b[38;5;28;43mself\u001b[39;49m\u001b[38;5;241;43m.\u001b[39;49m\u001b[43mcoadd_label\u001b[49m\u001b[43m,\u001b[49m\n\u001b[1;32m    219\u001b[0m \u001b[43m                            \u001b[49m\u001b[43muse_andy_mask\u001b[49m\u001b[38;5;241;43m=\u001b[39;49m\u001b[38;5;28;43mself\u001b[39;49m\u001b[38;5;241;43m.\u001b[39;49m\u001b[43muse_andy_mask\u001b[49m\u001b[43m)\u001b[49m\n\u001b[1;32m    221\u001b[0m \u001b[38;5;66;03m# clear detected mask and remove unnecessary plane\u001b[39;00m\n\u001b[1;32m    222\u001b[0m \u001b[38;5;28;01mfor\u001b[39;00m band \u001b[38;5;129;01min\u001b[39;00m \u001b[38;5;28mself\u001b[39m\u001b[38;5;241m.\u001b[39mbands:\n",
      "File \u001b[0;32m~/Research/Packages/hugs/hugs/exposure.py:46\u001b[0m, in \u001b[0;36mHugsExposure.__init__\u001b[0;34m(self, tract, patch, bands, butler, coadd_label, band_detect, rerun, use_andy_mask)\u001b[0m\n\u001b[1;32m     42\u001b[0m \u001b[38;5;28;01mfor\u001b[39;00m band \u001b[38;5;129;01min\u001b[39;00m bands:\n\u001b[1;32m     43\u001b[0m     data_id \u001b[38;5;241m=\u001b[39m {\u001b[38;5;124m'\u001b[39m\u001b[38;5;124mtract\u001b[39m\u001b[38;5;124m'\u001b[39m: tract, \n\u001b[1;32m     44\u001b[0m                \u001b[38;5;124m'\u001b[39m\u001b[38;5;124mpatch\u001b[39m\u001b[38;5;124m'\u001b[39m: patch, \n\u001b[1;32m     45\u001b[0m                \u001b[38;5;124m'\u001b[39m\u001b[38;5;124mfilter\u001b[39m\u001b[38;5;124m'\u001b[39m: \u001b[38;5;124m'\u001b[39m\u001b[38;5;124mHSC-\u001b[39m\u001b[38;5;124m'\u001b[39m \u001b[38;5;241m+\u001b[39m band\u001b[38;5;241m.\u001b[39mupper()}\n\u001b[0;32m---> 46\u001b[0m     exp \u001b[38;5;241m=\u001b[39m \u001b[38;5;28;43mself\u001b[39;49m\u001b[38;5;241;43m.\u001b[39;49m\u001b[43mbutler\u001b[49m\u001b[38;5;241;43m.\u001b[39;49m\u001b[43mget\u001b[49m\u001b[43m(\u001b[49m\u001b[43mcoadd_label\u001b[49m\u001b[43m,\u001b[49m\u001b[43m \u001b[49m\u001b[43mdata_id\u001b[49m\u001b[43m,\u001b[49m\u001b[43m \u001b[49m\u001b[43mimmediate\u001b[49m\u001b[38;5;241;43m=\u001b[39;49m\u001b[38;5;28;43;01mTrue\u001b[39;49;00m\u001b[43m)\u001b[49m\n\u001b[1;32m     47\u001b[0m     fn \u001b[38;5;241m=\u001b[39m \u001b[38;5;28mself\u001b[39m\u001b[38;5;241m.\u001b[39mbutler\u001b[38;5;241m.\u001b[39mget(\n\u001b[1;32m     48\u001b[0m         coadd_label\u001b[38;5;241m+\u001b[39m\u001b[38;5;124m'\u001b[39m\u001b[38;5;124m_filename\u001b[39m\u001b[38;5;124m'\u001b[39m, data_id, immediate\u001b[38;5;241m=\u001b[39m\u001b[38;5;28;01mTrue\u001b[39;00m)[\u001b[38;5;241m0\u001b[39m]\n\u001b[1;32m     49\u001b[0m     \u001b[38;5;28mself\u001b[39m\u001b[38;5;241m.\u001b[39mfn[band] \u001b[38;5;241m=\u001b[39m fn\n",
      "File \u001b[0;32m/projects/HSC/LSST/stack_20220527/conda/envs/lsst-scipipe-4.0.0/share/eups/Linux64/daf_butler/g23f6d281cf+3bb374b9e1/python/lsst/daf/butler/_butler.py:1332\u001b[0m, in \u001b[0;36mButler.get\u001b[0;34m(self, datasetRefOrType, dataId, parameters, collections, **kwargs)\u001b[0m\n\u001b[1;32m   1283\u001b[0m \u001b[38;5;124;03m\"\"\"Retrieve a stored dataset.\u001b[39;00m\n\u001b[1;32m   1284\u001b[0m \n\u001b[1;32m   1285\u001b[0m \u001b[38;5;124;03mParameters\u001b[39;00m\n\u001b[0;32m   (...)\u001b[0m\n\u001b[1;32m   1329\u001b[0m \u001b[38;5;124;03m``exposure`` is a temporal dimension.\u001b[39;00m\n\u001b[1;32m   1330\u001b[0m \u001b[38;5;124;03m\"\"\"\u001b[39;00m\n\u001b[1;32m   1331\u001b[0m log\u001b[38;5;241m.\u001b[39mdebug(\u001b[38;5;124m\"\u001b[39m\u001b[38;5;124mButler get: \u001b[39m\u001b[38;5;132;01m%s\u001b[39;00m\u001b[38;5;124m, dataId=\u001b[39m\u001b[38;5;132;01m%s\u001b[39;00m\u001b[38;5;124m, parameters=\u001b[39m\u001b[38;5;132;01m%s\u001b[39;00m\u001b[38;5;124m\"\u001b[39m, datasetRefOrType, dataId, parameters)\n\u001b[0;32m-> 1332\u001b[0m ref \u001b[38;5;241m=\u001b[39m \u001b[38;5;28;43mself\u001b[39;49m\u001b[38;5;241;43m.\u001b[39;49m\u001b[43m_findDatasetRef\u001b[49m\u001b[43m(\u001b[49m\u001b[43mdatasetRefOrType\u001b[49m\u001b[43m,\u001b[49m\u001b[43m \u001b[49m\u001b[43mdataId\u001b[49m\u001b[43m,\u001b[49m\u001b[43m \u001b[49m\u001b[43mcollections\u001b[49m\u001b[38;5;241;43m=\u001b[39;49m\u001b[43mcollections\u001b[49m\u001b[43m,\u001b[49m\u001b[43m \u001b[49m\u001b[38;5;241;43m*\u001b[39;49m\u001b[38;5;241;43m*\u001b[39;49m\u001b[43mkwargs\u001b[49m\u001b[43m)\u001b[49m\n\u001b[1;32m   1333\u001b[0m \u001b[38;5;28;01mreturn\u001b[39;00m \u001b[38;5;28mself\u001b[39m\u001b[38;5;241m.\u001b[39mgetDirect(ref, parameters\u001b[38;5;241m=\u001b[39mparameters)\n",
      "File \u001b[0;32m/projects/HSC/LSST/stack_20220527/conda/envs/lsst-scipipe-4.0.0/share/eups/Linux64/daf_butler/g23f6d281cf+3bb374b9e1/python/lsst/daf/butler/_butler.py:1018\u001b[0m, in \u001b[0;36mButler._findDatasetRef\u001b[0;34m(self, datasetRefOrType, dataId, collections, allowUnresolved, **kwargs)\u001b[0m\n\u001b[1;32m   1015\u001b[0m     idNumber \u001b[38;5;241m=\u001b[39m \u001b[38;5;28;01mNone\u001b[39;00m\n\u001b[1;32m   1016\u001b[0m timespan: Optional[Timespan] \u001b[38;5;241m=\u001b[39m \u001b[38;5;28;01mNone\u001b[39;00m\n\u001b[0;32m-> 1018\u001b[0m dataId, kwargs \u001b[38;5;241m=\u001b[39m \u001b[38;5;28;43mself\u001b[39;49m\u001b[38;5;241;43m.\u001b[39;49m\u001b[43m_rewrite_data_id\u001b[49m\u001b[43m(\u001b[49m\u001b[43mdataId\u001b[49m\u001b[43m,\u001b[49m\u001b[43m \u001b[49m\u001b[43mdatasetType\u001b[49m\u001b[43m,\u001b[49m\u001b[43m \u001b[49m\u001b[38;5;241;43m*\u001b[39;49m\u001b[38;5;241;43m*\u001b[39;49m\u001b[43mkwargs\u001b[49m\u001b[43m)\u001b[49m\n\u001b[1;32m   1020\u001b[0m \u001b[38;5;28;01mif\u001b[39;00m datasetType\u001b[38;5;241m.\u001b[39misCalibration():\n\u001b[1;32m   1021\u001b[0m     \u001b[38;5;66;03m# Because this is a calibration dataset, first try to make a\u001b[39;00m\n\u001b[1;32m   1022\u001b[0m     \u001b[38;5;66;03m# standardize the data ID without restricting the dimensions to\u001b[39;00m\n\u001b[1;32m   1023\u001b[0m     \u001b[38;5;66;03m# those of the dataset type requested, because there may be extra\u001b[39;00m\n\u001b[1;32m   1024\u001b[0m     \u001b[38;5;66;03m# dimensions that provide temporal information for a validity-range\u001b[39;00m\n\u001b[1;32m   1025\u001b[0m     \u001b[38;5;66;03m# lookup.\u001b[39;00m\n\u001b[1;32m   1026\u001b[0m     dataId \u001b[38;5;241m=\u001b[39m DataCoordinate\u001b[38;5;241m.\u001b[39mstandardize(\n\u001b[1;32m   1027\u001b[0m         dataId, universe\u001b[38;5;241m=\u001b[39m\u001b[38;5;28mself\u001b[39m\u001b[38;5;241m.\u001b[39mregistry\u001b[38;5;241m.\u001b[39mdimensions, defaults\u001b[38;5;241m=\u001b[39m\u001b[38;5;28mself\u001b[39m\u001b[38;5;241m.\u001b[39mregistry\u001b[38;5;241m.\u001b[39mdefaults\u001b[38;5;241m.\u001b[39mdataId, \u001b[38;5;241m*\u001b[39m\u001b[38;5;241m*\u001b[39mkwargs\n\u001b[1;32m   1028\u001b[0m     )\n",
      "File \u001b[0;32m/projects/HSC/LSST/stack_20220527/conda/envs/lsst-scipipe-4.0.0/share/eups/Linux64/daf_butler/g23f6d281cf+3bb374b9e1/python/lsst/daf/butler/_butler.py:843\u001b[0m, in \u001b[0;36mButler._rewrite_data_id\u001b[0;34m(self, dataId, datasetType, **kwargs)\u001b[0m\n\u001b[1;32m    840\u001b[0m never_found \u001b[38;5;241m=\u001b[39m \u001b[38;5;28mset\u001b[39m(not_dimensions) \u001b[38;5;241m-\u001b[39m matched_dims\n\u001b[1;32m    842\u001b[0m \u001b[38;5;28;01mif\u001b[39;00m never_found:\n\u001b[0;32m--> 843\u001b[0m     \u001b[38;5;28;01mraise\u001b[39;00m \u001b[38;5;167;01mValueError\u001b[39;00m(\u001b[38;5;124mf\u001b[39m\u001b[38;5;124m\"\u001b[39m\u001b[38;5;124mUnrecognized keyword args given: \u001b[39m\u001b[38;5;132;01m{\u001b[39;00mnever_found\u001b[38;5;132;01m}\u001b[39;00m\u001b[38;5;124m\"\u001b[39m)\n\u001b[1;32m    845\u001b[0m \u001b[38;5;66;03m# There is a chance we have allocated a single dataId item\u001b[39;00m\n\u001b[1;32m    846\u001b[0m \u001b[38;5;66;03m# to multiple dimensions. Need to decide which should be retained.\u001b[39;00m\n\u001b[1;32m    847\u001b[0m \u001b[38;5;66;03m# For now assume that the most popular alternative wins.\u001b[39;00m\n\u001b[0;32m   (...)\u001b[0m\n\u001b[1;32m    850\u001b[0m \u001b[38;5;66;03m# Also prefer an explicitly missing dimension over an inferred\u001b[39;00m\n\u001b[1;32m    851\u001b[0m \u001b[38;5;66;03m# temporal dimension.\u001b[39;00m\n\u001b[1;32m    852\u001b[0m \u001b[38;5;28;01mfor\u001b[39;00m fieldName, assignedDimensions \u001b[38;5;129;01min\u001b[39;00m assigned\u001b[38;5;241m.\u001b[39mitems():\n",
      "\u001b[0;31mValueError\u001b[0m: Unrecognized keyword args given: {'filter', 'immediate'}"
     ]
    }
   ],
   "source": [
    "config.set_patch_id(p['tract'], p['patch'])"
   ]
  },
  {
   "cell_type": "code",
   "execution_count": null,
   "id": "ac9c134a",
   "metadata": {},
   "outputs": [],
   "source": []
  }
 ],
 "metadata": {
  "kernelspec": {
   "display_name": "Python 3 (ipykernel)",
   "language": "python",
   "name": "python3"
  },
  "language_info": {
   "codemirror_mode": {
    "name": "ipython",
    "version": 3
   },
   "file_extension": ".py",
   "mimetype": "text/x-python",
   "name": "python",
   "nbconvert_exporter": "python",
   "pygments_lexer": "ipython3",
   "version": "3.10.4"
  }
 },
 "nbformat": 4,
 "nbformat_minor": 5
}
