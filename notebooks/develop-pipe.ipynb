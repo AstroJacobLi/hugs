{
 "cells": [
  {
   "cell_type": "code",
   "execution_count": 1,
   "metadata": {
    "collapsed": true
   },
   "outputs": [],
   "source": [
    "%matplotlib inline\n",
    "import matplotlib.pyplot as plt\n",
    "import os\n",
    "import numpy as np\n",
    "from astropy.table import Table, hstack\n",
    "import lsst.pipe.base\n",
    "import hugs_pipe as hp\n",
    "from hugs_pipe import utils, imtools, primitives as prim\n",
    "from hugs_pipe.cattools import cutter, xmatch"
   ]
  },
  {
   "cell_type": "code",
   "execution_count": 2,
   "metadata": {
    "collapsed": true
   },
   "outputs": [],
   "source": [
    "sam = Table.read('/home/jgreco/sample.csv')"
   ]
  },
  {
   "cell_type": "code",
   "execution_count": 3,
   "metadata": {
    "collapsed": true
   },
   "outputs": [],
   "source": [
    "def display_results(exp, sources, kws_list):\n",
    "    v1 = hp.Viewer(data_id=exp)\n",
    "    disp1 = v1.create_ds9_display(frame=1)\n",
    "    disp1.setMaskPlaneColor('THRESH_HIGH', 'magenta')\n",
    "    disp1.setMaskPlaneColor('THRESH_LOW', 'yellow')\n",
    "    disp1.setMaskPlaneColor('CLEANED', 'white')\n",
    "    disp1.setMaskPlaneColor('SEX_SEG', 'blue')\n",
    "    v1.ds9_display_patch(frame=1, mask_trans=70, disp=disp1)\n",
    "    for s, kws in zip(sources, kws_list):\n",
    "        v1.ds9_draw_ell(s, frame=1, ellpars='sex', **kws)    "
   ]
  },
  {
   "cell_type": "code",
   "execution_count": 5,
   "metadata": {
    "collapsed": true
   },
   "outputs": [],
   "source": [
    "def run(cfg):\n",
    "    \n",
    "    cfg.timer\n",
    "    \n",
    "    ############################################################\n",
    "    # Get masked image and check if we have enough good data\n",
    "    ############################################################\n",
    "\n",
    "    mi = cfg.exp[cfg.band_detect].getMaskedImage()\n",
    "    mask = mi.getMask()\n",
    "    \n",
    "    ############################################################\n",
    "    # Image thesholding at low and high thresholds. In both \n",
    "    # cases, the image is smoothed at the psf scale.\n",
    "    ############################################################\n",
    "\n",
    "    mi_smooth = imtools.smooth_gauss(mi, cfg.psf_sigma)\n",
    "    cfg.logger.info('performing low threshold at '\n",
    "                    '{} sigma'.format(cfg.thresh_low['thresh']))\n",
    "    fpset_low = prim.image_threshold(\n",
    "        mi_smooth, mask=mask, plane_name='THRESH_LOW', **cfg.thresh_low)\n",
    "    cfg.logger.info('performing high threshold at '\n",
    "                    '{} sigma'.format(cfg.thresh_high['thresh']))\n",
    "    fpset_high = prim.image_threshold(\n",
    "        mi_smooth, mask=mask, plane_name='THRESH_HIGH', **cfg.thresh_high)\n",
    "\n",
    "    del mi_smooth\n",
    "\n",
    "    ############################################################\n",
    "    # Get \"cleaned\" image, with noise replacement\n",
    "    ############################################################\n",
    "\n",
    "    cfg.logger.info('generating cleaned exposure')\n",
    "    exp_clean = prim.clean(cfg.exp[cfg.band_detect], fpset_low, **cfg.clean)\n",
    "    mi_clean = exp_clean.getMaskedImage()\n",
    "    mask_clean = mi_clean.getMask()\n",
    "    \n",
    "    ############################################################\n",
    "    # Detect sources and measure props with SExtractor\n",
    "    ############################################################\n",
    "\n",
    "    cfg.logger.info('detecting in {}-band'.format(cfg.band_detect))\n",
    "    label = '{}-{}-{}'.format(cfg.tract, cfg.patch[0], cfg.patch[-1])\n",
    "    if cfg.group_id:\n",
    "        label = str(cfg.group_id)+'-'+label\n",
    "\n",
    "    cfg.sex_measure['sf'] = None\n",
    "    num_aps = len(cfg.sex_measure['apertures'])\n",
    "\n",
    "    cfg.logger.info('cleaning non-detection bands')\n",
    "    replace = cfg.exp.get_mask_array(cfg.band_detect)\n",
    "    for band in cfg.bands:\n",
    "        if band!=cfg.band_detect:\n",
    "            mi_band = cfg.exp[band].getMaskedImage()\n",
    "            noise_array = utils.make_noise_image(mi_band, cfg.rng)\n",
    "            mi_band.getImage().getArray()[replace] = noise_array[replace]\n",
    "\n",
    "    sources = Table()\n",
    "\n",
    "    for band in cfg.bands:\n",
    "        cfg.logger.info('measuring in {}-band'.format(band))\n",
    "        add_params = band==cfg.band_detect\n",
    "        dual_exp = None if band==cfg.band_detect else cfg.exp[band]\n",
    "        sources_band = prim.sex_measure(\n",
    "            exp_clean, label=label+'-'+cfg.band_detect, add_params=add_params,\n",
    "            dual_exp=dual_exp, **cfg.sex_measure)\n",
    "        if len(sources_band)>0:\n",
    "            utils.add_band_to_name(sources_band, band, num_aps)\n",
    "            if band!=cfg.band_detect:\n",
    "                cols = [c for c in sources_band.colnames if '('+band+')' in c]\n",
    "                sources = hstack([sources, sources_band[cols]])\n",
    "            else:\n",
    "                sources = hstack([sources, sources_band])\n",
    "        else:\n",
    "            break\n",
    "    \n",
    "    if len(sources)>0:\n",
    "\n",
    "        ############################################################\n",
    "        # Verify detections in other bands using SExtractor\n",
    "        ############################################################\n",
    "\n",
    "        all_detections = sources.copy()\n",
    "\n",
    "        for band in cfg.band_verify:\n",
    "            cfg.logger.info('verifying dection in {}-band'.format(band))\n",
    "            sources_verify = prim.sex_measure(\n",
    "                cfg.exp[band], label=label+'-'+band,\n",
    "                add_params=False, **cfg.sex_measure)\n",
    "            if len(sources_verify)>0:\n",
    "                match_masks, _ = xmatch(\n",
    "                    sources, sources_verify, max_sep=cfg.verify_max_sep)\n",
    "                txt = 'cuts: {} out of {} objects detected in {}-band'.format(\n",
    "                    len(match_masks[0]), len(sources), band)\n",
    "                cfg.logger.info(txt)\n",
    "                if len(match_masks[0])==0:\n",
    "                    sources = Table()\n",
    "                    break\n",
    "                sources = sources[match_masks[0]]\n",
    "            else:\n",
    "                sources = Table()\n",
    "                break\n",
    "                    \n",
    "        if len(sources)>0:\n",
    "            candy = cutter(sources.to_pandas(),\n",
    "                           min_cuts=cfg.min_cuts,\n",
    "                           max_cuts=cfg.max_cuts,\n",
    "                           logger=cfg.logger)\n",
    "            candy = Table.from_pandas(candy)\n",
    "\n",
    "    cfg.logger.info('task completed in {:.2f} min'.format(cfg.timer))\n",
    "    \n",
    "    results = lsst.pipe.base.Struct(all_detections=all_detections,\n",
    "                                        sources=sources,\n",
    "                                        candy=candy,\n",
    "                                        exp=cfg.exp,\n",
    "                                        exp_clean=exp_clean)\n",
    "    return results"
   ]
  },
  {
   "cell_type": "code",
   "execution_count": 6,
   "metadata": {
    "collapsed": false
   },
   "outputs": [],
   "source": [
    "tract, patch = 9348, '7,6'"
   ]
  },
  {
   "cell_type": "code",
   "execution_count": 7,
   "metadata": {
    "collapsed": false
   },
   "outputs": [
    {
     "name": "stdout",
     "output_type": "stream",
     "text": [
      "\u001b[34mhugs-pipe: 9348 | 7,6:\u001b[0m \u001b[32m05/25 11:31:42\u001b[0m \u001b[1;30mINFO:\u001b[0m starting hugs-pipe with config file explore-config.yml\n"
     ]
    },
    {
     "name": "stderr",
     "output_type": "stream",
     "text": [
      "INFO:hugs-pipe: 9348 | 7,6:starting hugs-pipe with config file explore-config.yml\n"
     ]
    }
   ],
   "source": [
    "try: config.reset_mask_planes()\n",
    "except NameError: pass    \n",
    "config = hp.Config(config_fn='explore-config.yml', tract=tract, patch=patch);"
   ]
  },
  {
   "cell_type": "code",
   "execution_count": 8,
   "metadata": {
    "collapsed": false
   },
   "outputs": [
    {
     "name": "stdout",
     "output_type": "stream",
     "text": [
      "\u001b[34mhugs-pipe: 9348 | 7,6:\u001b[0m \u001b[32m05/25 11:31:52\u001b[0m \u001b[1;30mINFO:\u001b[0m performing low threshold at 3.0 sigma\n"
     ]
    },
    {
     "name": "stderr",
     "output_type": "stream",
     "text": [
      "INFO:hugs-pipe: 9348 | 7,6:performing low threshold at 3.0 sigma\n"
     ]
    },
    {
     "name": "stdout",
     "output_type": "stream",
     "text": [
      "\u001b[34mhugs-pipe: 9348 | 7,6:\u001b[0m \u001b[32m05/25 11:31:53\u001b[0m \u001b[1;30mINFO:\u001b[0m performing high threshold at 28.0 sigma\n"
     ]
    },
    {
     "name": "stderr",
     "output_type": "stream",
     "text": [
      "INFO:hugs-pipe: 9348 | 7,6:performing high threshold at 28.0 sigma\n"
     ]
    },
    {
     "name": "stdout",
     "output_type": "stream",
     "text": [
      "\u001b[34mhugs-pipe: 9348 | 7,6:\u001b[0m \u001b[32m05/25 11:31:54\u001b[0m \u001b[1;30mINFO:\u001b[0m generating cleaned exposure\n"
     ]
    },
    {
     "name": "stderr",
     "output_type": "stream",
     "text": [
      "INFO:hugs-pipe: 9348 | 7,6:generating cleaned exposure\n"
     ]
    },
    {
     "name": "stdout",
     "output_type": "stream",
     "text": [
      "\u001b[34mhugs-pipe: 9348 | 7,6:\u001b[0m \u001b[32m05/25 11:31:58\u001b[0m \u001b[1;30mINFO:\u001b[0m detecting in i-band\n"
     ]
    },
    {
     "name": "stderr",
     "output_type": "stream",
     "text": [
      "INFO:hugs-pipe: 9348 | 7,6:detecting in i-band\n"
     ]
    },
    {
     "name": "stdout",
     "output_type": "stream",
     "text": [
      "\u001b[34mhugs-pipe: 9348 | 7,6:\u001b[0m \u001b[32m05/25 11:31:58\u001b[0m \u001b[1;30mINFO:\u001b[0m cleaning non-detection bands\n"
     ]
    },
    {
     "name": "stderr",
     "output_type": "stream",
     "text": [
      "INFO:hugs-pipe: 9348 | 7,6:cleaning non-detection bands\n"
     ]
    },
    {
     "name": "stdout",
     "output_type": "stream",
     "text": [
      "\u001b[34mhugs-pipe: 9348 | 7,6:\u001b[0m \u001b[32m05/25 11:32:02\u001b[0m \u001b[1;30mINFO:\u001b[0m measuring in i-band\n"
     ]
    },
    {
     "name": "stderr",
     "output_type": "stream",
     "text": [
      "INFO:hugs-pipe: 9348 | 7,6:measuring in i-band\n"
     ]
    },
    {
     "name": "stdout",
     "output_type": "stream",
     "text": [
      "\n",
      "running \n",
      "-------\n",
      "sex -c default.sex /scratch/network/jgreco/temp-io/sexin/exp-9348-7-6-i.fits[1] -CATALOG_NAME /scratch/network/jgreco/temp-io/sexout/sex-9348-7-6-i.cat -CHECKIMAGE_NAME /scratch/network/jgreco/temp-io/sexout/9348-7-6-i-SEGMENTATION.fits -PARAMETERS_NAME 9348-7-6-i.params -MEMORY_PIXSTACK 900000 -PHOT_FLUXFRAC 0.5 -MAG_ZEROPOINT 27.0 -PIXEL_SCALE 0.168 -PHOT_APERTURES 3,4,5,6,7,8,16,32 -THRESH_TYPE RELATIVE -WEIGHT_TYPE NONE -DETECT_THRESH 0.7 -FILTER Y -DETECT_MINAREA 100 -CHECKIMAGE_TYPE SEGMENTATION -FILTER_NAME gauss_6.0_31x31.conv -SEEING_FWHM 0.8 -VERBOSE_TYPE QUIET -BACK_SIZE 128\n",
      "\n",
      "\u001b[34mhugs-pipe: 9348 | 7,6:\u001b[0m \u001b[32m05/25 11:32:27\u001b[0m \u001b[1;30mINFO:\u001b[0m measuring in r-band\n"
     ]
    },
    {
     "name": "stderr",
     "output_type": "stream",
     "text": [
      "INFO:hugs-pipe: 9348 | 7,6:measuring in r-band\n"
     ]
    },
    {
     "name": "stdout",
     "output_type": "stream",
     "text": [
      "\n",
      "running \n",
      "-------\n",
      "sex -c default.sex /scratch/network/jgreco/temp-io/sexin/exp-9348-7-6-i.fits[1],/scratch/network/jgreco/temp-io/sexin/exp-9348-7-6-i-r.fits[1] -CATALOG_NAME /scratch/network/jgreco/temp-io/sexout/sex-9348-7-6-i-r.cat -CHECKIMAGE_NAME /scratch/network/jgreco/temp-io/sexout/9348-7-6-i-SEGMENTATION.fits -PARAMETERS_NAME 9348-7-6-i.params -MEMORY_PIXSTACK 900000 -PHOT_FLUXFRAC 0.5 -MAG_ZEROPOINT 27.0 -PIXEL_SCALE 0.168 -PHOT_APERTURES 3,4,5,6,7,8,16,32 -THRESH_TYPE RELATIVE -WEIGHT_TYPE NONE -DETECT_THRESH 0.7 -FILTER Y -DETECT_MINAREA 100 -CHECKIMAGE_TYPE SEGMENTATION -FILTER_NAME gauss_6.0_31x31.conv -SEEING_FWHM 0.8 -VERBOSE_TYPE QUIET -BACK_SIZE 128\n",
      "\n",
      "\u001b[34mhugs-pipe: 9348 | 7,6:\u001b[0m \u001b[32m05/25 11:32:48\u001b[0m \u001b[1;30mINFO:\u001b[0m measuring in g-band\n"
     ]
    },
    {
     "name": "stderr",
     "output_type": "stream",
     "text": [
      "INFO:hugs-pipe: 9348 | 7,6:measuring in g-band\n"
     ]
    },
    {
     "name": "stdout",
     "output_type": "stream",
     "text": [
      "\n",
      "running \n",
      "-------\n",
      "sex -c default.sex /scratch/network/jgreco/temp-io/sexin/exp-9348-7-6-i.fits[1],/scratch/network/jgreco/temp-io/sexin/exp-9348-7-6-i-g.fits[1] -CATALOG_NAME /scratch/network/jgreco/temp-io/sexout/sex-9348-7-6-i-g.cat -CHECKIMAGE_NAME /scratch/network/jgreco/temp-io/sexout/9348-7-6-i-SEGMENTATION.fits -PARAMETERS_NAME 9348-7-6-i.params -MEMORY_PIXSTACK 900000 -PHOT_FLUXFRAC 0.5 -MAG_ZEROPOINT 27.0 -PIXEL_SCALE 0.168 -PHOT_APERTURES 3,4,5,6,7,8,16,32 -THRESH_TYPE RELATIVE -WEIGHT_TYPE NONE -DETECT_THRESH 0.7 -FILTER Y -DETECT_MINAREA 100 -CHECKIMAGE_TYPE SEGMENTATION -FILTER_NAME gauss_6.0_31x31.conv -SEEING_FWHM 0.8 -VERBOSE_TYPE QUIET -BACK_SIZE 128\n",
      "\n",
      "\u001b[34mhugs-pipe: 9348 | 7,6:\u001b[0m \u001b[32m05/25 11:33:10\u001b[0m \u001b[1;30mINFO:\u001b[0m verifying dection in g-band\n"
     ]
    },
    {
     "name": "stderr",
     "output_type": "stream",
     "text": [
      "INFO:hugs-pipe: 9348 | 7,6:verifying dection in g-band\n"
     ]
    },
    {
     "name": "stdout",
     "output_type": "stream",
     "text": [
      "\n",
      "running \n",
      "-------\n",
      "sex -c default.sex /scratch/network/jgreco/temp-io/sexin/exp-9348-7-6-g.fits[1] -CATALOG_NAME /scratch/network/jgreco/temp-io/sexout/sex-9348-7-6-g.cat -CHECKIMAGE_NAME /scratch/network/jgreco/temp-io/sexout/9348-7-6-g-SEGMENTATION.fits -PARAMETERS_NAME 9348-7-6-g.params -MEMORY_PIXSTACK 900000 -PHOT_FLUXFRAC 0.5 -MAG_ZEROPOINT 27.0 -PIXEL_SCALE 0.168 -PHOT_APERTURES 3,4,5,6,7,8,16,32 -THRESH_TYPE RELATIVE -WEIGHT_TYPE NONE -DETECT_THRESH 0.7 -FILTER Y -DETECT_MINAREA 100 -CHECKIMAGE_TYPE SEGMENTATION -FILTER_NAME gauss_6.0_31x31.conv -SEEING_FWHM 0.8 -VERBOSE_TYPE QUIET -BACK_SIZE 128\n",
      "\n",
      "\u001b[34mhugs-pipe: 9348 | 7,6:\u001b[0m \u001b[32m05/25 11:33:30\u001b[0m \u001b[1;30mINFO:\u001b[0m cuts: 977 out of 1583 objects detected in g-band\n"
     ]
    },
    {
     "name": "stderr",
     "output_type": "stream",
     "text": [
      "INFO:hugs-pipe: 9348 | 7,6:cuts: 977 out of 1583 objects detected in g-band\n"
     ]
    },
    {
     "name": "stdout",
     "output_type": "stream",
     "text": [
      "\u001b[34mhugs-pipe: 9348 | 7,6:\u001b[0m \u001b[32m05/25 11:33:30\u001b[0m \u001b[1;30mINFO:\u001b[0m cuts: 977 objects in cat before cuts\n"
     ]
    },
    {
     "name": "stderr",
     "output_type": "stream",
     "text": [
      "INFO:hugs-pipe: 9348 | 7,6:cuts: 977 objects in cat before cuts\n"
     ]
    },
    {
     "name": "stdout",
     "output_type": "stream",
     "text": [
      "\u001b[34mhugs-pipe: 9348 | 7,6:\u001b[0m \u001b[32m05/25 11:33:30\u001b[0m \u001b[1;30mINFO:\u001b[0m cuts: will cut 959 objects with FWHM_IMAGE(i) <= 25\n"
     ]
    },
    {
     "name": "stderr",
     "output_type": "stream",
     "text": [
      "INFO:hugs-pipe: 9348 | 7,6:cuts: will cut 959 objects with FWHM_IMAGE(i) <= 25\n"
     ]
    },
    {
     "name": "stdout",
     "output_type": "stream",
     "text": [
      "\u001b[34mhugs-pipe: 9348 | 7,6:\u001b[0m \u001b[32m05/25 11:33:30\u001b[0m \u001b[1;30mINFO:\u001b[0m cuts: will cut 9 objects with num_edge_pix >= 1\n"
     ]
    },
    {
     "name": "stderr",
     "output_type": "stream",
     "text": [
      "INFO:hugs-pipe: 9348 | 7,6:cuts: will cut 9 objects with num_edge_pix >= 1\n"
     ]
    },
    {
     "name": "stdout",
     "output_type": "stream",
     "text": [
      "\u001b[34mhugs-pipe: 9348 | 7,6:\u001b[0m \u001b[32m05/25 11:33:30\u001b[0m \u001b[1;30mINFO:\u001b[0m cuts: 18 objects in cat after cuts\n"
     ]
    },
    {
     "name": "stderr",
     "output_type": "stream",
     "text": [
      "INFO:hugs-pipe: 9348 | 7,6:cuts: 18 objects in cat after cuts\n"
     ]
    },
    {
     "name": "stdout",
     "output_type": "stream",
     "text": [
      "\u001b[34mhugs-pipe: 9348 | 7,6:\u001b[0m \u001b[32m05/25 11:33:30\u001b[0m \u001b[1;30mINFO:\u001b[0m task completed in 1.66 min\n"
     ]
    },
    {
     "name": "stderr",
     "output_type": "stream",
     "text": [
      "INFO:hugs-pipe: 9348 | 7,6:task completed in 1.66 min\n"
     ]
    }
   ],
   "source": [
    "results = run(config)"
   ]
  },
  {
   "cell_type": "code",
   "execution_count": 20,
   "metadata": {
    "collapsed": false
   },
   "outputs": [],
   "source": [
    "\n",
    "sources = results.all_detections[results.all_detections['A_IMAGE(i)']>3]\n",
    "\n",
    "display_results(results.exp_clean, [sources, results.candy], \n",
    "                [{'ec':'red', 'scale':3}, {'ec':'blue', 'scale':5}])"
   ]
  },
  {
   "cell_type": "code",
   "execution_count": 10,
   "metadata": {
    "collapsed": false
   },
   "outputs": [],
   "source": []
  },
  {
   "cell_type": "code",
   "execution_count": 21,
   "metadata": {
    "collapsed": false
   },
   "outputs": [
    {
     "data": {
      "text/plain": [
       "[<matplotlib.lines.Line2D at 0x2b98d40d4bd0>]"
      ]
     },
     "execution_count": 21,
     "metadata": {},
     "output_type": "execute_result"
    },
    {
     "data": {
      "image/png": "[encoded data removed]",
      "text/plain": [
       "<matplotlib.figure.Figure at 0x2b98d4025d90>"
      ]
     },
     "metadata": {},
     "output_type": "display_data"
    }
   ],
   "source": [
    "plt.plot(sources['FLUX_RADIUS(i)'],sources['A_IMAGE(i)'], '.')"
   ]
  },
  {
   "cell_type": "code",
   "execution_count": 23,
   "metadata": {
    "collapsed": false
   },
   "outputs": [
    {
     "data": {
      "image/png": "[encoded data removed]",
      "text/plain": [
       "<matplotlib.figure.Figure at 0x2b98a5eb1290>"
      ]
     },
     "metadata": {},
     "output_type": "display_data"
    }
   ],
   "source": [
    "plt.hist(sources['FLUX_RADIUS(i)'], bins=50, range=[0,25]);"
   ]
  },
  {
   "cell_type": "code",
   "execution_count": 15,
   "metadata": {
    "collapsed": false
   },
   "outputs": [
    {
     "data": {
      "text/plain": [
       "(2.1739999999999999, 11.584, 3.2770000000000001, 3.5273891345546429)"
      ]
     },
     "execution_count": 15,
     "metadata": {},
     "output_type": "execute_result"
    }
   ],
   "source": [
    "s = results.all_detections['A_IMAGE(i)']\n",
    "sb = results.all_detections['B_IMAGE(i)']\n",
    "\n",
    "s.min(), s.max(), np.median(s), s.mean()"
   ]
  },
  {
   "cell_type": "code",
   "execution_count": 16,
   "metadata": {
    "collapsed": false
   },
   "outputs": [
    {
     "data": {
      "text/plain": [
       "(1.7410000000000001,\n",
       " 6.7110000000000003,\n",
       " 2.5720000000000001,\n",
       " 2.6727372078332281)"
      ]
     },
     "execution_count": 16,
     "metadata": {},
     "output_type": "execute_result"
    }
   ],
   "source": [
    "sb.min(), sb.max(), np.median(sb), sb.mean()"
   ]
  },
  {
   "cell_type": "code",
   "execution_count": 18,
   "metadata": {
    "collapsed": false
   },
   "outputs": [
    {
     "data": {
      "image/png": "[encoded data removed]",
      "text/plain": [
       "<matplotlib.figure.Figure at 0x2b98d3f3ec10>"
      ]
     },
     "metadata": {},
     "output_type": "display_data"
    }
   ],
   "source": [
    "plt.hist(s, bins='auto');"
   ]
  },
  {
   "cell_type": "code",
   "execution_count": 19,
   "metadata": {
    "collapsed": false
   },
   "outputs": [
    {
     "data": {
      "image/png": "[encoded data removed]",
      "text/plain": [
       "<matplotlib.figure.Figure at 0x2b98d292c990>"
      ]
     },
     "metadata": {},
     "output_type": "display_data"
    }
   ],
   "source": [
    "plt.hist(sb, bins='auto');"
   ]
  },
  {
   "cell_type": "code",
   "execution_count": null,
   "metadata": {
    "collapsed": true
   },
   "outputs": [],
   "source": []
  }
 ],
 "metadata": {
  "kernelspec": {
   "display_name": "Python 2",
   "language": "python",
   "name": "python2"
  },
  "language_info": {
   "codemirror_mode": {
    "name": "ipython",
    "version": 2
   },
   "file_extension": ".py",
   "mimetype": "text/x-python",
   "name": "python",
   "nbconvert_exporter": "python",
   "pygments_lexer": "ipython2",
   "version": "2.7.11"
  }
 },
 "nbformat": 4,
 "nbformat_minor": 0
}
